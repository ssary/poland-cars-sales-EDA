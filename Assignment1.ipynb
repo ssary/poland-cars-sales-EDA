{
 "cells": [
  {
   "cell_type": "code",
   "execution_count": 58,
   "metadata": {},
   "outputs": [],
   "source": [
    "import matplotlib.pyplot as plt \n",
    "import numpy as np \n",
    "import pandas as pd \n",
    "import seaborn as sns\n",
    "from bokeh.plotting import figure, show\n",
    "from bokeh.models import ColumnDataSource,HoverTool,BoxSelectTool\n",
    "\n",
    "df = pd.read_csv('/home/sary/cms-downloader/cms_downloads/Winter 2022/Data Engineering and Visualization/Project1/Car_sale_ads.csv')"
   ]
  },
  {
   "cell_type": "code",
   "execution_count": 2,
   "metadata": {},
   "outputs": [
    {
     "data": {
      "text/html": [
       "<div>\n",
       "<style scoped>\n",
       "    .dataframe tbody tr th:only-of-type {\n",
       "        vertical-align: middle;\n",
       "    }\n",
       "\n",
       "    .dataframe tbody tr th {\n",
       "        vertical-align: top;\n",
       "    }\n",
       "\n",
       "    .dataframe thead th {\n",
       "        text-align: right;\n",
       "    }\n",
       "</style>\n",
       "<table border=\"1\" class=\"dataframe\">\n",
       "  <thead>\n",
       "    <tr style=\"text-align: right;\">\n",
       "      <th></th>\n",
       "      <th>Index</th>\n",
       "      <th>Price</th>\n",
       "      <th>Currency</th>\n",
       "      <th>Condition</th>\n",
       "      <th>Vehicle_brand</th>\n",
       "      <th>Vehicle_model</th>\n",
       "      <th>Vehicle_version</th>\n",
       "      <th>Vehicle_generation</th>\n",
       "      <th>Production_year</th>\n",
       "      <th>Mileage_km</th>\n",
       "      <th>...</th>\n",
       "      <th>Transmission</th>\n",
       "      <th>Type</th>\n",
       "      <th>Doors_number</th>\n",
       "      <th>Colour</th>\n",
       "      <th>Origin_country</th>\n",
       "      <th>First_owner</th>\n",
       "      <th>First_registration_date</th>\n",
       "      <th>Offer_publication_date</th>\n",
       "      <th>Offer_location</th>\n",
       "      <th>Features</th>\n",
       "    </tr>\n",
       "  </thead>\n",
       "  <tbody>\n",
       "    <tr>\n",
       "      <th>0</th>\n",
       "      <td>0</td>\n",
       "      <td>86200</td>\n",
       "      <td>PLN</td>\n",
       "      <td>New</td>\n",
       "      <td>Abarth</td>\n",
       "      <td>595</td>\n",
       "      <td>NaN</td>\n",
       "      <td>NaN</td>\n",
       "      <td>2021</td>\n",
       "      <td>1.0</td>\n",
       "      <td>...</td>\n",
       "      <td>Manual</td>\n",
       "      <td>small_cars</td>\n",
       "      <td>3.0</td>\n",
       "      <td>gray</td>\n",
       "      <td>NaN</td>\n",
       "      <td>NaN</td>\n",
       "      <td>NaN</td>\n",
       "      <td>04/05/2021</td>\n",
       "      <td>ul. Jubilerska 6 - 04-190 Warszawa, Mazowiecki...</td>\n",
       "      <td>[]</td>\n",
       "    </tr>\n",
       "    <tr>\n",
       "      <th>1</th>\n",
       "      <td>1</td>\n",
       "      <td>43500</td>\n",
       "      <td>PLN</td>\n",
       "      <td>Used</td>\n",
       "      <td>Abarth</td>\n",
       "      <td>Other</td>\n",
       "      <td>NaN</td>\n",
       "      <td>NaN</td>\n",
       "      <td>1974</td>\n",
       "      <td>59000.0</td>\n",
       "      <td>...</td>\n",
       "      <td>Manual</td>\n",
       "      <td>coupe</td>\n",
       "      <td>2.0</td>\n",
       "      <td>silver</td>\n",
       "      <td>NaN</td>\n",
       "      <td>NaN</td>\n",
       "      <td>NaN</td>\n",
       "      <td>03/05/2021</td>\n",
       "      <td>kanonierska12 - 04-425 Warszawa, Rembertów (Po...</td>\n",
       "      <td>[]</td>\n",
       "    </tr>\n",
       "    <tr>\n",
       "      <th>2</th>\n",
       "      <td>2</td>\n",
       "      <td>44900</td>\n",
       "      <td>PLN</td>\n",
       "      <td>Used</td>\n",
       "      <td>Abarth</td>\n",
       "      <td>500</td>\n",
       "      <td>NaN</td>\n",
       "      <td>NaN</td>\n",
       "      <td>2018</td>\n",
       "      <td>52000.0</td>\n",
       "      <td>...</td>\n",
       "      <td>Automatic</td>\n",
       "      <td>small_cars</td>\n",
       "      <td>3.0</td>\n",
       "      <td>silver</td>\n",
       "      <td>NaN</td>\n",
       "      <td>NaN</td>\n",
       "      <td>NaN</td>\n",
       "      <td>03/05/2021</td>\n",
       "      <td>Warszawa, Mazowieckie, Białołęka</td>\n",
       "      <td>['ABS', 'Electric front windows', 'Drivers air...</td>\n",
       "    </tr>\n",
       "    <tr>\n",
       "      <th>3</th>\n",
       "      <td>3</td>\n",
       "      <td>39900</td>\n",
       "      <td>PLN</td>\n",
       "      <td>Used</td>\n",
       "      <td>Abarth</td>\n",
       "      <td>500</td>\n",
       "      <td>NaN</td>\n",
       "      <td>NaN</td>\n",
       "      <td>2012</td>\n",
       "      <td>29000.0</td>\n",
       "      <td>...</td>\n",
       "      <td>Manual</td>\n",
       "      <td>small_cars</td>\n",
       "      <td>3.0</td>\n",
       "      <td>gray</td>\n",
       "      <td>NaN</td>\n",
       "      <td>NaN</td>\n",
       "      <td>NaN</td>\n",
       "      <td>30/04/2021</td>\n",
       "      <td>Jaworzno, Śląskie</td>\n",
       "      <td>['ABS', 'Electric front windows', 'Drivers air...</td>\n",
       "    </tr>\n",
       "    <tr>\n",
       "      <th>4</th>\n",
       "      <td>4</td>\n",
       "      <td>97900</td>\n",
       "      <td>PLN</td>\n",
       "      <td>New</td>\n",
       "      <td>Abarth</td>\n",
       "      <td>595</td>\n",
       "      <td>NaN</td>\n",
       "      <td>NaN</td>\n",
       "      <td>2021</td>\n",
       "      <td>600.0</td>\n",
       "      <td>...</td>\n",
       "      <td>Manual</td>\n",
       "      <td>small_cars</td>\n",
       "      <td>3.0</td>\n",
       "      <td>blue</td>\n",
       "      <td>NaN</td>\n",
       "      <td>NaN</td>\n",
       "      <td>NaN</td>\n",
       "      <td>30/04/2021</td>\n",
       "      <td>ul. Gorzysława 9 - 61-057 Poznań, Nowe Miasto ...</td>\n",
       "      <td>['ABS', 'Electrically adjustable mirrors', 'Pa...</td>\n",
       "    </tr>\n",
       "    <tr>\n",
       "      <th>5</th>\n",
       "      <td>5</td>\n",
       "      <td>62950</td>\n",
       "      <td>PLN</td>\n",
       "      <td>Used</td>\n",
       "      <td>Abarth</td>\n",
       "      <td>595</td>\n",
       "      <td>NaN</td>\n",
       "      <td>NaN</td>\n",
       "      <td>2016</td>\n",
       "      <td>46060.0</td>\n",
       "      <td>...</td>\n",
       "      <td>Manual</td>\n",
       "      <td>small_cars</td>\n",
       "      <td>3.0</td>\n",
       "      <td>gray</td>\n",
       "      <td>Germany</td>\n",
       "      <td>Yes</td>\n",
       "      <td>15/03/2016</td>\n",
       "      <td>30/04/2021</td>\n",
       "      <td>Modlińska 157 - 03-186 Warszawa, Białołęka (Po...</td>\n",
       "      <td>['ABS', 'Electric front windows', 'Drivers air...</td>\n",
       "    </tr>\n",
       "    <tr>\n",
       "      <th>6</th>\n",
       "      <td>6</td>\n",
       "      <td>69900</td>\n",
       "      <td>PLN</td>\n",
       "      <td>Used</td>\n",
       "      <td>Abarth</td>\n",
       "      <td>595</td>\n",
       "      <td>NaN</td>\n",
       "      <td>NaN</td>\n",
       "      <td>2021</td>\n",
       "      <td>2900.0</td>\n",
       "      <td>...</td>\n",
       "      <td>Manual</td>\n",
       "      <td>small_cars</td>\n",
       "      <td>2.0</td>\n",
       "      <td>black</td>\n",
       "      <td>Germany</td>\n",
       "      <td>NaN</td>\n",
       "      <td>25/02/2021</td>\n",
       "      <td>29/04/2021</td>\n",
       "      <td>Żary, żarski, Lubuskie</td>\n",
       "      <td>[]</td>\n",
       "    </tr>\n",
       "    <tr>\n",
       "      <th>7</th>\n",
       "      <td>7</td>\n",
       "      <td>69900</td>\n",
       "      <td>PLN</td>\n",
       "      <td>Used</td>\n",
       "      <td>Abarth</td>\n",
       "      <td>500</td>\n",
       "      <td>NaN</td>\n",
       "      <td>NaN</td>\n",
       "      <td>2019</td>\n",
       "      <td>20000.0</td>\n",
       "      <td>...</td>\n",
       "      <td>Manual</td>\n",
       "      <td>small_cars</td>\n",
       "      <td>3.0</td>\n",
       "      <td>white</td>\n",
       "      <td>Poland</td>\n",
       "      <td>Yes</td>\n",
       "      <td>NaN</td>\n",
       "      <td>29/04/2021</td>\n",
       "      <td>Ojcowska 2 - 02-918 Warszawa, Mokotów (Polska)</td>\n",
       "      <td>['ABS', 'Electrically adjustable mirrors', 'Pa...</td>\n",
       "    </tr>\n",
       "    <tr>\n",
       "      <th>8</th>\n",
       "      <td>8</td>\n",
       "      <td>120750</td>\n",
       "      <td>PLN</td>\n",
       "      <td>New</td>\n",
       "      <td>Abarth</td>\n",
       "      <td>595</td>\n",
       "      <td>NaN</td>\n",
       "      <td>NaN</td>\n",
       "      <td>2021</td>\n",
       "      <td>1.0</td>\n",
       "      <td>...</td>\n",
       "      <td>Manual</td>\n",
       "      <td>small_cars</td>\n",
       "      <td>3.0</td>\n",
       "      <td>blue</td>\n",
       "      <td>NaN</td>\n",
       "      <td>NaN</td>\n",
       "      <td>NaN</td>\n",
       "      <td>03/05/2021</td>\n",
       "      <td>ul. Gorzysława 9 - 61-057 Poznań, Nowe Miasto ...</td>\n",
       "      <td>['ABS', 'Electrically adjustable mirrors', 'Pa...</td>\n",
       "    </tr>\n",
       "    <tr>\n",
       "      <th>9</th>\n",
       "      <td>9</td>\n",
       "      <td>93100</td>\n",
       "      <td>PLN</td>\n",
       "      <td>New</td>\n",
       "      <td>Abarth</td>\n",
       "      <td>595</td>\n",
       "      <td>NaN</td>\n",
       "      <td>NaN</td>\n",
       "      <td>2021</td>\n",
       "      <td>1.0</td>\n",
       "      <td>...</td>\n",
       "      <td>Manual</td>\n",
       "      <td>small_cars</td>\n",
       "      <td>3.0</td>\n",
       "      <td>gray</td>\n",
       "      <td>NaN</td>\n",
       "      <td>NaN</td>\n",
       "      <td>NaN</td>\n",
       "      <td>03/05/2021</td>\n",
       "      <td>ul. Gorzysława 9 - 61-057 Poznań, Nowe Miasto ...</td>\n",
       "      <td>['ABS', 'Electrically adjustable mirrors', 'Pa...</td>\n",
       "    </tr>\n",
       "  </tbody>\n",
       "</table>\n",
       "<p>10 rows × 25 columns</p>\n",
       "</div>"
      ],
      "text/plain": [
       "   Index   Price Currency Condition Vehicle_brand Vehicle_model  \\\n",
       "0      0   86200      PLN       New        Abarth           595   \n",
       "1      1   43500      PLN      Used        Abarth         Other   \n",
       "2      2   44900      PLN      Used        Abarth           500   \n",
       "3      3   39900      PLN      Used        Abarth           500   \n",
       "4      4   97900      PLN       New        Abarth           595   \n",
       "5      5   62950      PLN      Used        Abarth           595   \n",
       "6      6   69900      PLN      Used        Abarth           595   \n",
       "7      7   69900      PLN      Used        Abarth           500   \n",
       "8      8  120750      PLN       New        Abarth           595   \n",
       "9      9   93100      PLN       New        Abarth           595   \n",
       "\n",
       "  Vehicle_version Vehicle_generation  Production_year  Mileage_km  ...  \\\n",
       "0             NaN                NaN             2021         1.0  ...   \n",
       "1             NaN                NaN             1974     59000.0  ...   \n",
       "2             NaN                NaN             2018     52000.0  ...   \n",
       "3             NaN                NaN             2012     29000.0  ...   \n",
       "4             NaN                NaN             2021       600.0  ...   \n",
       "5             NaN                NaN             2016     46060.0  ...   \n",
       "6             NaN                NaN             2021      2900.0  ...   \n",
       "7             NaN                NaN             2019     20000.0  ...   \n",
       "8             NaN                NaN             2021         1.0  ...   \n",
       "9             NaN                NaN             2021         1.0  ...   \n",
       "\n",
       "   Transmission        Type Doors_number  Colour Origin_country First_owner  \\\n",
       "0        Manual  small_cars          3.0    gray            NaN         NaN   \n",
       "1        Manual       coupe          2.0  silver            NaN         NaN   \n",
       "2     Automatic  small_cars          3.0  silver            NaN         NaN   \n",
       "3        Manual  small_cars          3.0    gray            NaN         NaN   \n",
       "4        Manual  small_cars          3.0    blue            NaN         NaN   \n",
       "5        Manual  small_cars          3.0    gray        Germany         Yes   \n",
       "6        Manual  small_cars          2.0   black        Germany         NaN   \n",
       "7        Manual  small_cars          3.0   white         Poland         Yes   \n",
       "8        Manual  small_cars          3.0    blue            NaN         NaN   \n",
       "9        Manual  small_cars          3.0    gray            NaN         NaN   \n",
       "\n",
       "  First_registration_date  Offer_publication_date  \\\n",
       "0                     NaN              04/05/2021   \n",
       "1                     NaN              03/05/2021   \n",
       "2                     NaN              03/05/2021   \n",
       "3                     NaN              30/04/2021   \n",
       "4                     NaN              30/04/2021   \n",
       "5              15/03/2016              30/04/2021   \n",
       "6              25/02/2021              29/04/2021   \n",
       "7                     NaN              29/04/2021   \n",
       "8                     NaN              03/05/2021   \n",
       "9                     NaN              03/05/2021   \n",
       "\n",
       "                                      Offer_location  \\\n",
       "0  ul. Jubilerska 6 - 04-190 Warszawa, Mazowiecki...   \n",
       "1  kanonierska12 - 04-425 Warszawa, Rembertów (Po...   \n",
       "2                   Warszawa, Mazowieckie, Białołęka   \n",
       "3                                  Jaworzno, Śląskie   \n",
       "4  ul. Gorzysława 9 - 61-057 Poznań, Nowe Miasto ...   \n",
       "5  Modlińska 157 - 03-186 Warszawa, Białołęka (Po...   \n",
       "6                             Żary, żarski, Lubuskie   \n",
       "7     Ojcowska 2 - 02-918 Warszawa, Mokotów (Polska)   \n",
       "8  ul. Gorzysława 9 - 61-057 Poznań, Nowe Miasto ...   \n",
       "9  ul. Gorzysława 9 - 61-057 Poznań, Nowe Miasto ...   \n",
       "\n",
       "                                            Features  \n",
       "0                                                 []  \n",
       "1                                                 []  \n",
       "2  ['ABS', 'Electric front windows', 'Drivers air...  \n",
       "3  ['ABS', 'Electric front windows', 'Drivers air...  \n",
       "4  ['ABS', 'Electrically adjustable mirrors', 'Pa...  \n",
       "5  ['ABS', 'Electric front windows', 'Drivers air...  \n",
       "6                                                 []  \n",
       "7  ['ABS', 'Electrically adjustable mirrors', 'Pa...  \n",
       "8  ['ABS', 'Electrically adjustable mirrors', 'Pa...  \n",
       "9  ['ABS', 'Electrically adjustable mirrors', 'Pa...  \n",
       "\n",
       "[10 rows x 25 columns]"
      ]
     },
     "execution_count": 2,
     "metadata": {},
     "output_type": "execute_result"
    }
   ],
   "source": [
    "df.head(10)"
   ]
  },
  {
   "cell_type": "code",
   "execution_count": 3,
   "metadata": {},
   "outputs": [
    {
     "name": "stdout",
     "output_type": "stream",
     "text": [
      "(208304, 25)\n",
      "<class 'pandas.core.frame.DataFrame'>\n",
      "RangeIndex: 208304 entries, 0 to 208303\n",
      "Data columns (total 25 columns):\n",
      " #   Column                   Non-Null Count   Dtype  \n",
      "---  ------                   --------------   -----  \n",
      " 0   Index                    208304 non-null  int64  \n",
      " 1   Price                    208304 non-null  int64  \n",
      " 2   Currency                 208304 non-null  object \n",
      " 3   Condition                208304 non-null  object \n",
      " 4   Vehicle_brand            208304 non-null  object \n",
      " 5   Vehicle_model            208304 non-null  object \n",
      " 6   Vehicle_version          138082 non-null  object \n",
      " 7   Vehicle_generation       147860 non-null  object \n",
      " 8   Production_year          208304 non-null  int64  \n",
      " 9   Mileage_km               207321 non-null  float64\n",
      " 10  Power_HP                 207661 non-null  float64\n",
      " 11  Displacement_cm3         206338 non-null  float64\n",
      " 12  Fuel_type                208304 non-null  object \n",
      " 13  CO2_emissions            94047 non-null   float64\n",
      " 14  Drive                    193228 non-null  object \n",
      " 15  Transmission             207825 non-null  object \n",
      " 16  Type                     208304 non-null  object \n",
      " 17  Doors_number             206817 non-null  float64\n",
      " 18  Colour                   208304 non-null  object \n",
      " 19  Origin_country           118312 non-null  object \n",
      " 20  First_owner              65094 non-null   object \n",
      " 21  First_registration_date  86445 non-null   object \n",
      " 22  Offer_publication_date   208304 non-null  object \n",
      " 23  Offer_location           208304 non-null  object \n",
      " 24  Features                 208304 non-null  object \n",
      "dtypes: float64(5), int64(3), object(17)\n",
      "memory usage: 39.7+ MB\n"
     ]
    }
   ],
   "source": [
    "print(df.shape)\n",
    "df.info()\n"
   ]
  },
  {
   "cell_type": "code",
   "execution_count": 4,
   "metadata": {},
   "outputs": [
    {
     "data": {
      "text/plain": [
       "Index                           0\n",
       "Price                           0\n",
       "Currency                        0\n",
       "Condition                       0\n",
       "Vehicle_brand                   0\n",
       "Vehicle_model                   0\n",
       "Vehicle_version             70222\n",
       "Vehicle_generation          60444\n",
       "Production_year                 0\n",
       "Mileage_km                    983\n",
       "Power_HP                      643\n",
       "Displacement_cm3             1966\n",
       "Fuel_type                       0\n",
       "CO2_emissions              114257\n",
       "Drive                       15076\n",
       "Transmission                  479\n",
       "Type                            0\n",
       "Doors_number                 1487\n",
       "Colour                          0\n",
       "Origin_country              89992\n",
       "First_owner                143210\n",
       "First_registration_date    121859\n",
       "Offer_publication_date          0\n",
       "Offer_location                  0\n",
       "Features                        0\n",
       "dtype: int64"
      ]
     },
     "execution_count": 4,
     "metadata": {},
     "output_type": "execute_result"
    }
   ],
   "source": [
    "# null count\n",
    "null_values = df.isnull().sum()\n",
    "null_values"
   ]
  },
  {
   "cell_type": "code",
   "execution_count": 5,
   "metadata": {},
   "outputs": [
    {
     "name": "stdout",
     "output_type": "stream",
     "text": [
      "total missing data: 11.917543590137491%\n"
     ]
    }
   ],
   "source": [
    "# total number of cells\n",
    "total_cells = np.product(df.shape)\n",
    "total_missing = null_values.sum()\n",
    "total_missing\n",
    "print(f'total missing data: {total_missing/total_cells * 100}%')"
   ]
  },
  {
   "cell_type": "markdown",
   "metadata": {},
   "source": [
    "First owner option in the creation of the car ad is not required option(checkbox) so,\n",
    "If you are not the first owner you will leave it which leads to null, and if you are then you will check it.\n",
    "So replacing them with False will be suitable."
   ]
  },
  {
   "cell_type": "code",
   "execution_count": 6,
   "metadata": {},
   "outputs": [],
   "source": [
    "\n",
    "# replacing nulls in First_owner with False.\n",
    "df['First_owner']=df['First_owner'].fillna(False)\n",
    "\n",
    "#change yes in this column to True.\n",
    "df['First_owner']=df['First_owner'].replace(['yes'],True)\n",
    "\n",
    "#change the dtype of First_owner to bool.\n",
    "df = df.astype({'First_owner':bool})\n",
    "\n",
    "# drop First_registration_date as it contains > 58% missing data and can't be predicted from the other columns.\n",
    "df.drop(columns=['First_registration_date'],inplace=True)"
   ]
  },
  {
   "cell_type": "markdown",
   "metadata": {},
   "source": [
    "Some vehicle brands or models don't have version, so the only option is to choose: \"I can't find my version\" so we can replace it with \"No version\".\n",
    "Also if you don't have version you will not have the generation.\n",
    "\n",
    "Lets see the number of models that don't have version at all the rows."
   ]
  },
  {
   "cell_type": "markdown",
   "metadata": {},
   "source": [
    "Option#1 is to remove these columns as it contains 33% null values.\n",
    "Option#2 is to replace nulls with \"No version\" as alternative value.\n"
   ]
  },
  {
   "cell_type": "code",
   "execution_count": 7,
   "metadata": {},
   "outputs": [
    {
     "name": "stdout",
     "output_type": "stream",
     "text": [
      "(1203, 9) (876, 9)\n"
     ]
    }
   ],
   "source": [
    "# Group the entries by the vehicle model (to count all the models we have)\n",
    "groupByModel = df.groupby('Vehicle_model')\n",
    "\n",
    "\n",
    "# remove the rows that contain nulls in the column Vehicle_version.\n",
    "dfFilteredVersion = df[df['Vehicle_version'].notnull()]\n",
    "\n",
    "# Use the filtered dataset to count number of models that have atleast one notnull value.\n",
    "groupByAfterFilter = dfFilteredVersion.groupby('Vehicle_model')\n",
    "\n",
    "print(groupByModel.sum().shape, groupByAfterFilter.sum().shape)"
   ]
  },
  {
   "cell_type": "markdown",
   "metadata": {},
   "source": [
    "876 model that have Version but the seller just didn't enter it, and 327 model don't have any model.\n",
    "So now we can remove this column as many sellers don't enter this value.(33% null values for Vehicle_version)\n",
    "\n",
    "~30% null values at Vehicle_generation , it will be useless to drop Version and estimate the Generation as they are dependant."
   ]
  },
  {
   "cell_type": "code",
   "execution_count": 8,
   "metadata": {},
   "outputs": [
    {
     "name": "stdout",
     "output_type": "stream",
     "text": [
      "33.711306551962515 % null values at Vehicle_version\n",
      "29.017205622551657 % null values at Vehicle_generation\n"
     ]
    }
   ],
   "source": [
    "total_rows = df.shape[0]\n",
    "missing_Version = df[df['Vehicle_version'].isnull()].shape[0]\n",
    "print(f'{missing_Version/total_rows * 100} % null values at Vehicle_version')\n",
    "\n",
    "missing_Generation = df[df['Vehicle_generation'].isnull()].shape[0]\n",
    "print(f'{missing_Generation/total_rows * 100} % null values at Vehicle_generation')"
   ]
  },
  {
   "cell_type": "code",
   "execution_count": 9,
   "metadata": {},
   "outputs": [],
   "source": [
    "# drop Vehicle_version column\n",
    "df.drop(columns=['Vehicle_version'],inplace=True)\n",
    "\n",
    "# drop Vehicle_generation column\n",
    "df.drop(columns=['Vehicle_generation'], inplace=True)"
   ]
  },
  {
   "cell_type": "markdown",
   "metadata": {},
   "source": [
    "CO2_emissions has ~55% null values and can't be predicted so removing this column will help."
   ]
  },
  {
   "cell_type": "code",
   "execution_count": 10,
   "metadata": {},
   "outputs": [
    {
     "name": "stdout",
     "output_type": "stream",
     "text": [
      "54.851083032490976 % null values at CO2_emissions\n"
     ]
    }
   ],
   "source": [
    "# percentage of missing values at the column CO2 emissions\n",
    "missing_CO2 = df[df['CO2_emissions'].isnull()].shape[0]\n",
    "print(f'{missing_CO2/total_rows * 100} % null values at CO2_emissions')"
   ]
  },
  {
   "cell_type": "code",
   "execution_count": 11,
   "metadata": {},
   "outputs": [],
   "source": [
    "# drop CO2_emissions\n",
    "df.drop(columns=['CO2_emissions'],inplace=True)"
   ]
  },
  {
   "cell_type": "markdown",
   "metadata": {},
   "source": [
    "Origin_country has ~43% null values and can't be predicted so removing this column will help."
   ]
  },
  {
   "cell_type": "code",
   "execution_count": 12,
   "metadata": {},
   "outputs": [
    {
     "name": "stdout",
     "output_type": "stream",
     "text": [
      "43.20224287579691 % null values at Origin_country\n"
     ]
    }
   ],
   "source": [
    "# percentage of missing values at the column Origin_country\n",
    "missing_Origin_country = df[df['Origin_country'].isnull()].shape[0]\n",
    "print(f'{missing_Origin_country/total_rows * 100} % null values at Origin_country')"
   ]
  },
  {
   "cell_type": "code",
   "execution_count": 13,
   "metadata": {},
   "outputs": [],
   "source": [
    "# drop Origin_country\n",
    "df.drop(columns=['Origin_country'],inplace=True)"
   ]
  },
  {
   "cell_type": "code",
   "execution_count": 14,
   "metadata": {},
   "outputs": [
    {
     "data": {
      "text/plain": [
       "(208304, 20)"
      ]
     },
     "execution_count": 14,
     "metadata": {},
     "output_type": "execute_result"
    }
   ],
   "source": [
    "df.shape"
   ]
  },
  {
   "cell_type": "code",
   "execution_count": 15,
   "metadata": {},
   "outputs": [
    {
     "data": {
      "text/plain": [
       "Index                         0\n",
       "Price                         0\n",
       "Currency                      0\n",
       "Condition                     0\n",
       "Vehicle_brand                 0\n",
       "Vehicle_model                 0\n",
       "Production_year               0\n",
       "Mileage_km                  983\n",
       "Power_HP                    643\n",
       "Displacement_cm3           1966\n",
       "Fuel_type                     0\n",
       "Drive                     15076\n",
       "Transmission                479\n",
       "Type                          0\n",
       "Doors_number               1487\n",
       "Colour                        0\n",
       "First_owner                   0\n",
       "Offer_publication_date        0\n",
       "Offer_location                0\n",
       "Features                      0\n",
       "dtype: int64"
      ]
     },
     "execution_count": 15,
     "metadata": {},
     "output_type": "execute_result"
    }
   ],
   "source": [
    "null_values = df.isnull().sum()\n",
    "null_values"
   ]
  },
  {
   "cell_type": "markdown",
   "metadata": {},
   "source": [
    "Drive column is left optionally in the ad,but we can know it from the (car brand + vehicle model) columns.\n",
    "and the rest of the rows which can't be estimated will replace it with \"front_wheel\"."
   ]
  },
  {
   "cell_type": "code",
   "execution_count": 16,
   "metadata": {},
   "outputs": [
    {
     "data": {
      "text/plain": [
       "0         Front wheels\n",
       "1         Front wheels\n",
       "2                  NaN\n",
       "3         Front wheels\n",
       "4                  NaN\n",
       "              ...     \n",
       "208299             NaN\n",
       "208300     Rear wheels\n",
       "208301             NaN\n",
       "208302             NaN\n",
       "208303             NaN\n",
       "Name: Drive, Length: 208304, dtype: object"
      ]
     },
     "execution_count": 16,
     "metadata": {},
     "output_type": "execute_result"
    }
   ],
   "source": [
    "df['Drive']"
   ]
  },
  {
   "cell_type": "code",
   "execution_count": 17,
   "metadata": {},
   "outputs": [],
   "source": [
    "# Save for each (car_brand + model) the drive of the car\n",
    "df_filtered_drive = df.dropna(subset=['Drive'])\n",
    "brand_modelToDrive = {}\n",
    "for i in (df_filtered_drive['Index']):\n",
    "    brand = df_filtered_drive.at[i,'Vehicle_brand']\n",
    "    model = df_filtered_drive.at[i,'Vehicle_model']\n",
    "    drive = df_filtered_drive.at[i,'Drive']\n",
    "    brand_modelToDrive[brand+model] = drive\n"
   ]
  },
  {
   "cell_type": "markdown",
   "metadata": {},
   "source": [
    "Now let's assign the drive that is not found with the corresponding brand+model"
   ]
  },
  {
   "cell_type": "code",
   "execution_count": 18,
   "metadata": {},
   "outputs": [
    {
     "name": "stdout",
     "output_type": "stream",
     "text": [
      "14941\n"
     ]
    }
   ],
   "source": [
    "dfOnlyNulls = df.loc[df['Drive'].isnull()]\n",
    "estimated_efficiently = 0\n",
    "for i in dfOnlyNulls['Index']:\n",
    "    brand = df.at[i, 'Vehicle_brand']\n",
    "    model = df.at[i,'Vehicle_model']\n",
    "\n",
    "    if (brand+model) in brand_modelToDrive.keys():\n",
    "        df.at[i, 'Drive'] = brand_modelToDrive[brand+model]\n",
    "        estimated_efficiently +=1\n",
    "    else:\n",
    "        df.at[i, 'Drive'] = 'Front wheels'\n",
    "print(estimated_efficiently)"
   ]
  },
  {
   "cell_type": "markdown",
   "metadata": {},
   "source": [
    "Wow we have 14941 Drive type prestored in our dataframe, and replaced correctly.\n",
    "Only 135 rows will be replaced with Front wheel as we don't have drivetype for its brand+model. "
   ]
  },
  {
   "cell_type": "code",
   "execution_count": 19,
   "metadata": {},
   "outputs": [
    {
     "data": {
      "text/plain": [
       "Index                        0\n",
       "Price                        0\n",
       "Currency                     0\n",
       "Condition                    0\n",
       "Vehicle_brand                0\n",
       "Vehicle_model                0\n",
       "Production_year              0\n",
       "Mileage_km                 983\n",
       "Power_HP                   643\n",
       "Displacement_cm3          1966\n",
       "Fuel_type                    0\n",
       "Drive                        0\n",
       "Transmission               479\n",
       "Type                         0\n",
       "Doors_number              1487\n",
       "Colour                       0\n",
       "First_owner                  0\n",
       "Offer_publication_date       0\n",
       "Offer_location               0\n",
       "Features                     0\n",
       "dtype: int64"
      ]
     },
     "execution_count": 19,
     "metadata": {},
     "output_type": "execute_result"
    }
   ],
   "source": [
    "df.isnull().sum()"
   ]
  },
  {
   "cell_type": "markdown",
   "metadata": {},
   "source": [
    "Observe that the currency is not only in PLN but 270 rows is in EUR.\n",
    "We will convert the EUR to PLN.\n",
    "1 EUR = 4.69 PLN at 1 December 2022\n"
   ]
  },
  {
   "cell_type": "code",
   "execution_count": 20,
   "metadata": {},
   "outputs": [
    {
     "name": "stdout",
     "output_type": "stream",
     "text": [
      "PLN    208034\n",
      "EUR       270\n",
      "Name: Currency, dtype: int64\n"
     ]
    }
   ],
   "source": [
    "print(df['Currency'].value_counts())"
   ]
  },
  {
   "cell_type": "code",
   "execution_count": 21,
   "metadata": {},
   "outputs": [],
   "source": [
    "df_EUR = df.loc[df['Currency'] == 'EUR']\n",
    "for i in df_EUR['Index']:\n",
    "    df.at[i, 'Price'] = df.at[i, 'Price'] * 4.69"
   ]
  },
  {
   "cell_type": "markdown",
   "metadata": {},
   "source": [
    "Let's see columns [Price, Production_year, Mileage_km, Power_HP] with boxplot."
   ]
  },
  {
   "cell_type": "code",
   "execution_count": 22,
   "metadata": {},
   "outputs": [],
   "source": [
    "droped_df = df.dropna()"
   ]
  },
  {
   "cell_type": "markdown",
   "metadata": {},
   "source": [
    "Remove outliers for displacement_cm3."
   ]
  },
  {
   "cell_type": "code",
   "execution_count": 23,
   "metadata": {},
   "outputs": [
    {
     "data": {
      "image/png": "[encoded data removed]",
      "text/plain": [
       "<Figure size 720x720 with 1 Axes>"
      ]
     },
     "metadata": {
      "needs_background": "light"
     },
     "output_type": "display_data"
    }
   ],
   "source": [
    "import matplotlib.pyplot as plt\n",
    "import numpy as np\n",
    "\n",
    "# Boxplot before removing outliers\n",
    "fig = plt.figure(figsize=(10,10))\n",
    "ax = fig.add_axes([0,0,1,1])\n",
    "bp = ax.boxplot(droped_df['Mileage_km'])"
   ]
  },
  {
   "cell_type": "code",
   "execution_count": 24,
   "metadata": {},
   "outputs": [
    {
     "name": "stdout",
     "output_type": "stream",
     "text": [
      "we will drop 608 rows\n"
     ]
    }
   ],
   "source": [
    "# Remove outliers for Mileage_km\n",
    "Q1 = droped_df['Mileage_km'].quantile(0.25)\n",
    "Q3 = droped_df['Mileage_km'].quantile(0.75)\n",
    "IQR = Q3 - Q1\n",
    "filter_mask = (droped_df['Mileage_km'] >= Q1 - 1.5*IQR) & (droped_df['Mileage_km'] <= Q3 + 1.5*IQR)\n",
    "outliersToBeDropped =droped_df.shape[0] - droped_df.loc[filter_mask].shape[0]\n",
    "print(f'we will drop {outliersToBeDropped} rows')\n",
    "droped_df = droped_df.loc[filter_mask]"
   ]
  },
  {
   "cell_type": "markdown",
   "metadata": {},
   "source": [
    "We have 8821 with 1.0 Km which is most likely the new cars.\n",
    "We will mark the new cars that have Mileage_km > 100 km as used cars."
   ]
  },
  {
   "cell_type": "code",
   "execution_count": 25,
   "metadata": {},
   "outputs": [
    {
     "name": "stdout",
     "output_type": "stream",
     "text": [
      "1.0         8821\n",
      "5.0         6797\n",
      "10.0        3131\n",
      "220000.0    1158\n",
      "180000.0    1148\n",
      "            ... \n",
      "57569.0        1\n",
      "188508.0       1\n",
      "151641.0       1\n",
      "169620.0       1\n",
      "18712.0        1\n",
      "Name: Mileage_km, Length: 51200, dtype: int64\n",
      "Used    179908\n",
      "New      23544\n",
      "Name: Condition, dtype: int64\n"
     ]
    },
    {
     "data": {
      "text/plain": [
       "777"
      ]
     },
     "execution_count": 25,
     "metadata": {},
     "output_type": "execute_result"
    }
   ],
   "source": [
    "# what is the most frequent Mileage_km?\n",
    "print(droped_df['Mileage_km'].value_counts())\n",
    "print(droped_df['Condition'].value_counts())\n",
    "filter_mask =  ((droped_df['Condition'] == 'New') & (droped_df['Mileage_km'] > 100.0))\n",
    "droped_df.loc[filter_mask].shape[0]"
   ]
  },
  {
   "cell_type": "markdown",
   "metadata": {},
   "source": [
    "We have 777 vehicle that have crossed 100 km and it's condition is new.\n",
    "we will change it's condition to used."
   ]
  },
  {
   "cell_type": "code",
   "execution_count": 26,
   "metadata": {},
   "outputs": [],
   "source": [
    "droped_df.loc[filter_mask, 'Condition'] = 'Used'"
   ]
  },
  {
   "cell_type": "markdown",
   "metadata": {},
   "source": [
    "After Cleaning the data we have to focus more on some brands that are most selling, so let's say TOP10 cars."
   ]
  },
  {
   "cell_type": "markdown",
   "metadata": {},
   "source": [
    "What is the most famouse 10 vehicles in Poland ?"
   ]
  },
  {
   "cell_type": "code",
   "execution_count": 35,
   "metadata": {},
   "outputs": [
    {
     "data": {
      "text/plain": [
       "Volkswagen       17905\n",
       "BMW              16456\n",
       "Audi             16238\n",
       "Opel             16099\n",
       "Ford             15836\n",
       "Mercedes-Benz    11665\n",
       "Renault          10487\n",
       "Toyota           10125\n",
       "Škoda            10009\n",
       "Peugeot           8847\n",
       "Name: Vehicle_brand, dtype: int64"
      ]
     },
     "execution_count": 35,
     "metadata": {},
     "output_type": "execute_result"
    }
   ],
   "source": [
    "Top10 = droped_df['Vehicle_brand'].value_counts()[:10]\n",
    "brandsArray = list(Top10.keys())\n",
    "Top10"
   ]
  },
  {
   "cell_type": "markdown",
   "metadata": {},
   "source": [
    "Visualize the results with histogram and bokeh."
   ]
  },
  {
   "cell_type": "code",
   "execution_count": 101,
   "metadata": {},
   "outputs": [],
   "source": [
    "\n",
    "hover_tool = HoverTool()\n",
    "p = figure(x_range=brandsArray, title=\"Most advertised brands in Poland\",\n",
    "           toolbar_location=None, tools=[hover_tool])\n",
    "\n",
    "p.vbar(x=brandsArray, top=Top10.values, width=0.9)\n",
    "\n",
    "p.xgrid.grid_line_color = None\n",
    "p.y_range.start = 0\n",
    "show(p)"
   ]
  },
  {
   "cell_type": "code",
   "execution_count": 105,
   "metadata": {},
   "outputs": [],
   "source": [
    "grouped = droped_df.groupby('Vehicle_brand')\n",
    "BMW = grouped.get_group('BMW')\n",
    "\n",
    "sortedYear = BMW.sort_values(by=['Production_year'])\n",
    "mask = (sortedYear['Production_year'] >= 1970)\n",
    "sortedYear = sortedYear.loc[mask]\n",
    "x = sortedYear['Production_year']\n",
    "y = sortedYear['Price']\n",
    "PriceOverYears1 = figure(title='Prices over years', x_axis_label='Time in Years', y_axis_label='Price in 1000 PLN')\n",
    "PriceOverYears1.line(x.values, y.values / 1000, legend_label='BMW')\n",
    "\n",
    "\n",
    "Opel= grouped.get_group('Opel')\n",
    "\n",
    "sortedYear = BMW.sort_values(by=['Production_year'])\n",
    "mask = (sortedYear['Production_year'] >= 1970)\n",
    "sortedYear = sortedYear.loc[mask]\n",
    "x1 = sortedYear['Production_year']\n",
    "y1 = sortedYear['Price']\n",
    "PriceOverYears2 = figure(title='Prices over years', x_axis_label='Time in Years', y_axis_label='Price in 1000 PLN')\n",
    "PriceOverYears2.line(x1.values, y1.values / 1000, legend_label='Opel')\n",
    "\n",
    "show(row(PriceOverYears1, PriceOverYears2))"
   ]
  },
  {
   "cell_type": "markdown",
   "metadata": {},
   "source": [
    "Now let's see some statistics, for each Brand."
   ]
  },
  {
   "cell_type": "markdown",
   "metadata": {},
   "source": [
    "Is the prices of the cars increase over time (production year)?, Before 1970 there were no much cars produced/for sale so we will ignore them to make the the same start for all the vehicles."
   ]
  },
  {
   "cell_type": "code",
   "execution_count": null,
   "metadata": {},
   "outputs": [],
   "source": []
  },
  {
   "cell_type": "code",
   "execution_count": 121,
   "metadata": {},
   "outputs": [],
   "source": [
    "from bokeh.layouts import row,column, gridplot\n",
    "# first get the range of years\n",
    "\n",
    "figures = []\n",
    "\n",
    "for brand in brandsArray:\n",
    "    # get the current Brand\n",
    "    brandDf = grouped.get_group(brand)\n",
    "    \n",
    "    # sort them on the production_year \n",
    "    sortedYear = brandDf.sort_values(by=['Production_year'])\n",
    "    \n",
    "    # remove the rows that after 1970\n",
    "    mask = (sortedYear['Production_year'] >= 1970)\n",
    "    sortedYear = sortedYear.loc[mask]\n",
    "    x = sortedYear['Production_year']\n",
    "    y = sortedYear['Price']\n",
    "    \n",
    "    # plot the graph where the time on y axis, price on x-axis\n",
    "    PriceOverYears = figure(title='Prices over years', x_axis_label='Time in Years', y_axis_label='Price in 1000 PLN')\n",
    "    PriceOverYears.line(x.values, y.values / 1000, legend_label=brand)\n",
    "    figures.append((PriceOverYears))\n",
    "\n",
    "g=gridplot(figures, ncols=3)\n",
    "show(g)"
   ]
  },
  {
   "cell_type": "markdown",
   "metadata": {},
   "source": [
    "The prices "
   ]
  }
 ],
 "metadata": {
  "kernelspec": {
   "display_name": "Python 3 (ipykernel)",
   "language": "python",
   "name": "python3"
  },
  "language_info": {
   "codemirror_mode": {
    "name": "ipython",
    "version": 3
   },
   "file_extension": ".py",
   "mimetype": "text/x-python",
   "name": "python",
   "nbconvert_exporter": "python",
   "pygments_lexer": "ipython3",
   "version": "3.8.10"
  },
  "vscode": {
   "interpreter": {
    "hash": "916dbcbb3f70747c44a77c7bcd40155683ae19c65e1c03b4aa3499c5328201f1"
   }
  }
 },
 "nbformat": 4,
 "nbformat_minor": 2
}
